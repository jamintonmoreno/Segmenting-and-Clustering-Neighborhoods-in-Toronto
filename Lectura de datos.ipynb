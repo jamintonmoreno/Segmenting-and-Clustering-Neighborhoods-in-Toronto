{
    "cells": [
        {
            "metadata": {},
            "cell_type": "code",
            "source": "from bs4 import BeautifulSoup\nimport requests\nimport pandas as pd\nimport numpy as np",
            "execution_count": 125,
            "outputs": []
        },
        {
            "metadata": {},
            "cell_type": "code",
            "source": "List_url = \"https://en.wikipedia.org/wiki/List_of_postal_codes_of_Canada:_M\"\nsource = requests.get(List_url).text",
            "execution_count": 126,
            "outputs": []
        },
        {
            "metadata": {},
            "cell_type": "code",
            "source": "soup = BeautifulSoup(source, 'xml')",
            "execution_count": 127,
            "outputs": []
        },
        {
            "metadata": {},
            "cell_type": "code",
            "source": "table=soup.find('table')",
            "execution_count": 128,
            "outputs": []
        },
        {
            "metadata": {},
            "cell_type": "code",
            "source": "#dataframe will consist of three columns: PostalCode, Borough, and Neighborhood\ncolumn_names = ['Postalcode','Borough','Neighborhood']\ndf = pd.DataFrame(columns = column_names)",
            "execution_count": 129,
            "outputs": []
        },
        {
            "metadata": {},
            "cell_type": "code",
            "source": "# Search all the postcode, borough, neighborhood \nfor tr_cell in table.find_all('tr'):\n    row_data=[]\n    for td_cell in tr_cell.find_all('td'):\n        row_data.append(td_cell.text.strip())\n    if len(row_data)==3:\n        df.loc[len(df)] = row_data",
            "execution_count": 130,
            "outputs": []
        },
        {
            "metadata": {},
            "cell_type": "code",
            "source": "df.head()",
            "execution_count": 131,
            "outputs": [
                {
                    "output_type": "execute_result",
                    "execution_count": 131,
                    "data": {
                        "text/plain": "  Postalcode           Borough               Neighborhood\n0        M1A      Not assigned               Not assigned\n1        M2A      Not assigned               Not assigned\n2        M3A        North York                  Parkwoods\n3        M4A        North York           Victoria Village\n4        M5A  Downtown Toronto  Regent Park, Harbourfront",
                        "text/html": "<div>\n<style scoped>\n    .dataframe tbody tr th:only-of-type {\n        vertical-align: middle;\n    }\n\n    .dataframe tbody tr th {\n        vertical-align: top;\n    }\n\n    .dataframe thead th {\n        text-align: right;\n    }\n</style>\n<table border=\"1\" class=\"dataframe\">\n  <thead>\n    <tr style=\"text-align: right;\">\n      <th></th>\n      <th>Postalcode</th>\n      <th>Borough</th>\n      <th>Neighborhood</th>\n    </tr>\n  </thead>\n  <tbody>\n    <tr>\n      <th>0</th>\n      <td>M1A</td>\n      <td>Not assigned</td>\n      <td>Not assigned</td>\n    </tr>\n    <tr>\n      <th>1</th>\n      <td>M2A</td>\n      <td>Not assigned</td>\n      <td>Not assigned</td>\n    </tr>\n    <tr>\n      <th>2</th>\n      <td>M3A</td>\n      <td>North York</td>\n      <td>Parkwoods</td>\n    </tr>\n    <tr>\n      <th>3</th>\n      <td>M4A</td>\n      <td>North York</td>\n      <td>Victoria Village</td>\n    </tr>\n    <tr>\n      <th>4</th>\n      <td>M5A</td>\n      <td>Downtown Toronto</td>\n      <td>Regent Park, Harbourfront</td>\n    </tr>\n  </tbody>\n</table>\n</div>"
                    },
                    "metadata": {}
                }
            ]
        },
        {
            "metadata": {},
            "cell_type": "code",
            "source": "df=df[df['Borough']!='Not assigned']\ndf",
            "execution_count": 132,
            "outputs": [
                {
                    "output_type": "execute_result",
                    "execution_count": 132,
                    "data": {
                        "text/plain": "    Postalcode           Borough  \\\n2          M3A        North York   \n3          M4A        North York   \n4          M5A  Downtown Toronto   \n5          M6A        North York   \n6          M7A  Downtown Toronto   \n..         ...               ...   \n160        M8X         Etobicoke   \n165        M4Y  Downtown Toronto   \n168        M7Y      East Toronto   \n169        M8Y         Etobicoke   \n178        M8Z         Etobicoke   \n\n                                          Neighborhood  \n2                                            Parkwoods  \n3                                     Victoria Village  \n4                            Regent Park, Harbourfront  \n5                     Lawrence Manor, Lawrence Heights  \n6          Queen's Park, Ontario Provincial Government  \n..                                                 ...  \n160      The Kingsway, Montgomery Road, Old Mill North  \n165                               Church and Wellesley  \n168  Business reply mail Processing Centre, South C...  \n169  Old Mill South, King's Mill Park, Sunnylea, Hu...  \n178  Mimico NW, The Queensway West, South of Bloor,...  \n\n[103 rows x 3 columns]",
                        "text/html": "<div>\n<style scoped>\n    .dataframe tbody tr th:only-of-type {\n        vertical-align: middle;\n    }\n\n    .dataframe tbody tr th {\n        vertical-align: top;\n    }\n\n    .dataframe thead th {\n        text-align: right;\n    }\n</style>\n<table border=\"1\" class=\"dataframe\">\n  <thead>\n    <tr style=\"text-align: right;\">\n      <th></th>\n      <th>Postalcode</th>\n      <th>Borough</th>\n      <th>Neighborhood</th>\n    </tr>\n  </thead>\n  <tbody>\n    <tr>\n      <th>2</th>\n      <td>M3A</td>\n      <td>North York</td>\n      <td>Parkwoods</td>\n    </tr>\n    <tr>\n      <th>3</th>\n      <td>M4A</td>\n      <td>North York</td>\n      <td>Victoria Village</td>\n    </tr>\n    <tr>\n      <th>4</th>\n      <td>M5A</td>\n      <td>Downtown Toronto</td>\n      <td>Regent Park, Harbourfront</td>\n    </tr>\n    <tr>\n      <th>5</th>\n      <td>M6A</td>\n      <td>North York</td>\n      <td>Lawrence Manor, Lawrence Heights</td>\n    </tr>\n    <tr>\n      <th>6</th>\n      <td>M7A</td>\n      <td>Downtown Toronto</td>\n      <td>Queen's Park, Ontario Provincial Government</td>\n    </tr>\n    <tr>\n      <th>...</th>\n      <td>...</td>\n      <td>...</td>\n      <td>...</td>\n    </tr>\n    <tr>\n      <th>160</th>\n      <td>M8X</td>\n      <td>Etobicoke</td>\n      <td>The Kingsway, Montgomery Road, Old Mill North</td>\n    </tr>\n    <tr>\n      <th>165</th>\n      <td>M4Y</td>\n      <td>Downtown Toronto</td>\n      <td>Church and Wellesley</td>\n    </tr>\n    <tr>\n      <th>168</th>\n      <td>M7Y</td>\n      <td>East Toronto</td>\n      <td>Business reply mail Processing Centre, South C...</td>\n    </tr>\n    <tr>\n      <th>169</th>\n      <td>M8Y</td>\n      <td>Etobicoke</td>\n      <td>Old Mill South, King's Mill Park, Sunnylea, Hu...</td>\n    </tr>\n    <tr>\n      <th>178</th>\n      <td>M8Z</td>\n      <td>Etobicoke</td>\n      <td>Mimico NW, The Queensway West, South of Bloor,...</td>\n    </tr>\n  </tbody>\n</table>\n<p>103 rows \u00d7 3 columns</p>\n</div>"
                    },
                    "metadata": {}
                }
            ]
        },
        {
            "metadata": {},
            "cell_type": "code",
            "source": "df = df.groupby(['Postalcode']).head()",
            "execution_count": 143,
            "outputs": []
        },
        {
            "metadata": {},
            "cell_type": "code",
            "source": "temp_df=df.groupby('Postalcode')['Neighborhood'].apply(lambda x: \"%s\" % ', '.join(x))\ntemp_df=temp_df.reset_index(drop=False)\ntemp_df.rename(columns={'Neighborhood':'Neighborhood_joined'},inplace=True)",
            "execution_count": 134,
            "outputs": []
        },
        {
            "metadata": {},
            "cell_type": "code",
            "source": "df_merge = pd.merge(df, temp_df, on='Postalcode')",
            "execution_count": 154,
            "outputs": []
        },
        {
            "metadata": {},
            "cell_type": "code",
            "source": "df_merge.drop(['Neighborhood'],axis=1,inplace=True)",
            "execution_count": 155,
            "outputs": []
        },
        {
            "metadata": {},
            "cell_type": "code",
            "source": "df_merge.drop_duplicates(inplace=True)",
            "execution_count": 156,
            "outputs": []
        },
        {
            "metadata": {},
            "cell_type": "code",
            "source": "df_merge.rename(columns={'Neighborhood_joined':'Neighborhood'},inplace=True)",
            "execution_count": 157,
            "outputs": []
        },
        {
            "metadata": {},
            "cell_type": "code",
            "source": "df_merge.head()",
            "execution_count": 158,
            "outputs": [
                {
                    "output_type": "execute_result",
                    "execution_count": 158,
                    "data": {
                        "text/plain": "  Postalcode           Borough                                 Neighborhood\n0        M3A        North York                                    Parkwoods\n1        M4A        North York                             Victoria Village\n2        M5A  Downtown Toronto                    Regent Park, Harbourfront\n3        M6A        North York             Lawrence Manor, Lawrence Heights\n4        M7A  Downtown Toronto  Queen's Park, Ontario Provincial Government",
                        "text/html": "<div>\n<style scoped>\n    .dataframe tbody tr th:only-of-type {\n        vertical-align: middle;\n    }\n\n    .dataframe tbody tr th {\n        vertical-align: top;\n    }\n\n    .dataframe thead th {\n        text-align: right;\n    }\n</style>\n<table border=\"1\" class=\"dataframe\">\n  <thead>\n    <tr style=\"text-align: right;\">\n      <th></th>\n      <th>Postalcode</th>\n      <th>Borough</th>\n      <th>Neighborhood</th>\n    </tr>\n  </thead>\n  <tbody>\n    <tr>\n      <th>0</th>\n      <td>M3A</td>\n      <td>North York</td>\n      <td>Parkwoods</td>\n    </tr>\n    <tr>\n      <th>1</th>\n      <td>M4A</td>\n      <td>North York</td>\n      <td>Victoria Village</td>\n    </tr>\n    <tr>\n      <th>2</th>\n      <td>M5A</td>\n      <td>Downtown Toronto</td>\n      <td>Regent Park, Harbourfront</td>\n    </tr>\n    <tr>\n      <th>3</th>\n      <td>M6A</td>\n      <td>North York</td>\n      <td>Lawrence Manor, Lawrence Heights</td>\n    </tr>\n    <tr>\n      <th>4</th>\n      <td>M7A</td>\n      <td>Downtown Toronto</td>\n      <td>Queen's Park, Ontario Provincial Government</td>\n    </tr>\n  </tbody>\n</table>\n</div>"
                    },
                    "metadata": {}
                }
            ]
        },
        {
            "metadata": {},
            "cell_type": "code",
            "source": "df_merge.shape",
            "execution_count": 159,
            "outputs": [
                {
                    "output_type": "execute_result",
                    "execution_count": 159,
                    "data": {
                        "text/plain": "(103, 3)"
                    },
                    "metadata": {}
                }
            ]
        },
        {
            "metadata": {},
            "cell_type": "markdown",
            "source": "## Part 2\n\nInstalling geocoder"
        },
        {
            "metadata": {},
            "cell_type": "code",
            "source": "\ndef get_geocode(postal_code):\n    # initialize your variable to None\n    lat_lng_coords = None\n    while(lat_lng_coords is None):\n        g = geocoder.google('{}, Toronto, Ontario'.format(postal_code))\n        lat_lng_coords = g.latlng\n    latitude = lat_lng_coords[0]\n    longitude = lat_lng_coords[1]\n    return latitude,longitude",
            "execution_count": 160,
            "outputs": []
        },
        {
            "metadata": {},
            "cell_type": "code",
            "source": "geo_df=pd.read_csv('http://cocl.us/Geospatial_data')",
            "execution_count": 161,
            "outputs": []
        },
        {
            "metadata": {},
            "cell_type": "code",
            "source": "geo_df.head()",
            "execution_count": 162,
            "outputs": [
                {
                    "output_type": "execute_result",
                    "execution_count": 162,
                    "data": {
                        "text/plain": "  Postal Code   Latitude  Longitude\n0         M1B  43.806686 -79.194353\n1         M1C  43.784535 -79.160497\n2         M1E  43.763573 -79.188711\n3         M1G  43.770992 -79.216917\n4         M1H  43.773136 -79.239476",
                        "text/html": "<div>\n<style scoped>\n    .dataframe tbody tr th:only-of-type {\n        vertical-align: middle;\n    }\n\n    .dataframe tbody tr th {\n        vertical-align: top;\n    }\n\n    .dataframe thead th {\n        text-align: right;\n    }\n</style>\n<table border=\"1\" class=\"dataframe\">\n  <thead>\n    <tr style=\"text-align: right;\">\n      <th></th>\n      <th>Postal Code</th>\n      <th>Latitude</th>\n      <th>Longitude</th>\n    </tr>\n  </thead>\n  <tbody>\n    <tr>\n      <th>0</th>\n      <td>M1B</td>\n      <td>43.806686</td>\n      <td>-79.194353</td>\n    </tr>\n    <tr>\n      <th>1</th>\n      <td>M1C</td>\n      <td>43.784535</td>\n      <td>-79.160497</td>\n    </tr>\n    <tr>\n      <th>2</th>\n      <td>M1E</td>\n      <td>43.763573</td>\n      <td>-79.188711</td>\n    </tr>\n    <tr>\n      <th>3</th>\n      <td>M1G</td>\n      <td>43.770992</td>\n      <td>-79.216917</td>\n    </tr>\n    <tr>\n      <th>4</th>\n      <td>M1H</td>\n      <td>43.773136</td>\n      <td>-79.239476</td>\n    </tr>\n  </tbody>\n</table>\n</div>"
                    },
                    "metadata": {}
                }
            ]
        },
        {
            "metadata": {},
            "cell_type": "code",
            "source": "geo_df.rename(columns={'Postal Code':'Postalcode'},inplace=True)\ngeo_merged = pd.merge(geo_df, df_merge, on='Postalcode')",
            "execution_count": 164,
            "outputs": []
        },
        {
            "metadata": {},
            "cell_type": "code",
            "source": "geo_data=geo_merged[['Postalcode','Borough','Neighborhood','Latitude','Longitude']]",
            "execution_count": 166,
            "outputs": []
        },
        {
            "metadata": {},
            "cell_type": "code",
            "source": "geo_data.head()",
            "execution_count": 167,
            "outputs": [
                {
                    "output_type": "execute_result",
                    "execution_count": 167,
                    "data": {
                        "text/plain": "  Postalcode      Borough                            Neighborhood   Latitude  \\\n0        M1B  Scarborough                          Malvern, Rouge  43.806686   \n1        M1C  Scarborough  Rouge Hill, Port Union, Highland Creek  43.784535   \n2        M1E  Scarborough       Guildwood, Morningside, West Hill  43.763573   \n3        M1G  Scarborough                                  Woburn  43.770992   \n4        M1H  Scarborough                               Cedarbrae  43.773136   \n\n   Longitude  \n0 -79.194353  \n1 -79.160497  \n2 -79.188711  \n3 -79.216917  \n4 -79.239476  ",
                        "text/html": "<div>\n<style scoped>\n    .dataframe tbody tr th:only-of-type {\n        vertical-align: middle;\n    }\n\n    .dataframe tbody tr th {\n        vertical-align: top;\n    }\n\n    .dataframe thead th {\n        text-align: right;\n    }\n</style>\n<table border=\"1\" class=\"dataframe\">\n  <thead>\n    <tr style=\"text-align: right;\">\n      <th></th>\n      <th>Postalcode</th>\n      <th>Borough</th>\n      <th>Neighborhood</th>\n      <th>Latitude</th>\n      <th>Longitude</th>\n    </tr>\n  </thead>\n  <tbody>\n    <tr>\n      <th>0</th>\n      <td>M1B</td>\n      <td>Scarborough</td>\n      <td>Malvern, Rouge</td>\n      <td>43.806686</td>\n      <td>-79.194353</td>\n    </tr>\n    <tr>\n      <th>1</th>\n      <td>M1C</td>\n      <td>Scarborough</td>\n      <td>Rouge Hill, Port Union, Highland Creek</td>\n      <td>43.784535</td>\n      <td>-79.160497</td>\n    </tr>\n    <tr>\n      <th>2</th>\n      <td>M1E</td>\n      <td>Scarborough</td>\n      <td>Guildwood, Morningside, West Hill</td>\n      <td>43.763573</td>\n      <td>-79.188711</td>\n    </tr>\n    <tr>\n      <th>3</th>\n      <td>M1G</td>\n      <td>Scarborough</td>\n      <td>Woburn</td>\n      <td>43.770992</td>\n      <td>-79.216917</td>\n    </tr>\n    <tr>\n      <th>4</th>\n      <td>M1H</td>\n      <td>Scarborough</td>\n      <td>Cedarbrae</td>\n      <td>43.773136</td>\n      <td>-79.239476</td>\n    </tr>\n  </tbody>\n</table>\n</div>"
                    },
                    "metadata": {}
                }
            ]
        },
        {
            "metadata": {},
            "cell_type": "code",
            "source": "toronto_data=geo_data[geo_data['Borough'].str.contains(\"Toronto\")]\ntoronto_data.head()",
            "execution_count": 168,
            "outputs": [
                {
                    "output_type": "execute_result",
                    "execution_count": 168,
                    "data": {
                        "text/plain": "   Postalcode          Borough                    Neighborhood   Latitude  \\\n37        M4E     East Toronto                     The Beaches  43.676357   \n41        M4K     East Toronto    The Danforth West, Riverdale  43.679557   \n42        M4L     East Toronto  India Bazaar, The Beaches West  43.668999   \n43        M4M     East Toronto                 Studio District  43.659526   \n44        M4N  Central Toronto                   Lawrence Park  43.728020   \n\n    Longitude  \n37 -79.293031  \n41 -79.352188  \n42 -79.315572  \n43 -79.340923  \n44 -79.388790  ",
                        "text/html": "<div>\n<style scoped>\n    .dataframe tbody tr th:only-of-type {\n        vertical-align: middle;\n    }\n\n    .dataframe tbody tr th {\n        vertical-align: top;\n    }\n\n    .dataframe thead th {\n        text-align: right;\n    }\n</style>\n<table border=\"1\" class=\"dataframe\">\n  <thead>\n    <tr style=\"text-align: right;\">\n      <th></th>\n      <th>Postalcode</th>\n      <th>Borough</th>\n      <th>Neighborhood</th>\n      <th>Latitude</th>\n      <th>Longitude</th>\n    </tr>\n  </thead>\n  <tbody>\n    <tr>\n      <th>37</th>\n      <td>M4E</td>\n      <td>East Toronto</td>\n      <td>The Beaches</td>\n      <td>43.676357</td>\n      <td>-79.293031</td>\n    </tr>\n    <tr>\n      <th>41</th>\n      <td>M4K</td>\n      <td>East Toronto</td>\n      <td>The Danforth West, Riverdale</td>\n      <td>43.679557</td>\n      <td>-79.352188</td>\n    </tr>\n    <tr>\n      <th>42</th>\n      <td>M4L</td>\n      <td>East Toronto</td>\n      <td>India Bazaar, The Beaches West</td>\n      <td>43.668999</td>\n      <td>-79.315572</td>\n    </tr>\n    <tr>\n      <th>43</th>\n      <td>M4M</td>\n      <td>East Toronto</td>\n      <td>Studio District</td>\n      <td>43.659526</td>\n      <td>-79.340923</td>\n    </tr>\n    <tr>\n      <th>44</th>\n      <td>M4N</td>\n      <td>Central Toronto</td>\n      <td>Lawrence Park</td>\n      <td>43.728020</td>\n      <td>-79.388790</td>\n    </tr>\n  </tbody>\n</table>\n</div>"
                    },
                    "metadata": {}
                }
            ]
        },
        {
            "metadata": {},
            "cell_type": "code",
            "source": "",
            "execution_count": null,
            "outputs": []
        }
    ],
    "metadata": {
        "kernelspec": {
            "name": "python3",
            "display_name": "Python 3.7",
            "language": "python"
        },
        "language_info": {
            "name": "python",
            "version": "3.7.9",
            "mimetype": "text/x-python",
            "codemirror_mode": {
                "name": "ipython",
                "version": 3
            },
            "pygments_lexer": "ipython3",
            "nbconvert_exporter": "python",
            "file_extension": ".py"
        }
    },
    "nbformat": 4,
    "nbformat_minor": 1
}